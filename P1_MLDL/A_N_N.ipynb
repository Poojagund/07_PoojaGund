{
  "nbformat": 4,
  "nbformat_minor": 0,
  "metadata": {
    "colab": {
      "name": "A_N_N.ipynb",
      "provenance": []
    },
    "kernelspec": {
      "name": "python3",
      "display_name": "Python 3"
    }
  },
  "cells": [
    {
      "cell_type": "markdown",
      "metadata": {
        "id": "cQB8pTU_qxYt"
      },
      "source": [
        "Roll No 07\r\n",
        "\r\n",
        "Pooja Gund\r\n",
        "\r\n",
        "Artificial Neural Network"
      ]
    },
    {
      "cell_type": "code",
      "metadata": {
        "id": "Q3gjjjgnqZvB"
      },
      "source": [
        "import numpy as np\r\n",
        "import pandas as pd\r\n",
        "import tensorflow as tf"
      ],
      "execution_count": 2,
      "outputs": []
    },
    {
      "cell_type": "code",
      "metadata": {
        "colab": {
          "base_uri": "https://localhost:8080/",
          "height": 35
        },
        "id": "cIU7oyuarVNf",
        "outputId": "52e4d01b-d737-4184-bdbd-254742434e83"
      },
      "source": [
        "tf.__version__"
      ],
      "execution_count": 3,
      "outputs": [
        {
          "output_type": "execute_result",
          "data": {
            "application/vnd.google.colaboratory.intrinsic+json": {
              "type": "string"
            },
            "text/plain": [
              "'2.4.0'"
            ]
          },
          "metadata": {
            "tags": []
          },
          "execution_count": 3
        }
      ]
    },
    {
      "cell_type": "code",
      "metadata": {
        "id": "bvCA9fSlrgZ7"
      },
      "source": [
        "dataset = pd.read_csv('/content/Churn_Modelling.csv')\r\n",
        "X = dataset.iloc[:, 3:-1].values\r\n",
        "y = dataset.iloc[:, -1].values"
      ],
      "execution_count": 5,
      "outputs": []
    },
    {
      "cell_type": "code",
      "metadata": {
        "colab": {
          "base_uri": "https://localhost:8080/"
        },
        "id": "j_bedeuLrgd_",
        "outputId": "46d0c94e-96d4-4a1c-cd09-0a18b48319cc"
      },
      "source": [
        "print(y)"
      ],
      "execution_count": 7,
      "outputs": [
        {
          "output_type": "stream",
          "text": [
            "[1 0 1 ... 1 1 0]\n"
          ],
          "name": "stdout"
        }
      ]
    },
    {
      "cell_type": "code",
      "metadata": {
        "id": "fp5WFpnOrghQ"
      },
      "source": [
        "from sklearn.preprocessing import LabelEncoder\r\n",
        "le = LabelEncoder()\r\n",
        "X[:, 2] = le.fit_transform(X[:, 2])"
      ],
      "execution_count": 8,
      "outputs": []
    },
    {
      "cell_type": "code",
      "metadata": {
        "colab": {
          "base_uri": "https://localhost:8080/"
        },
        "id": "bGLceKyYrgko",
        "outputId": "7807c8ef-a266-4397-993b-5eaf96bfd54e"
      },
      "source": [
        "print(X)"
      ],
      "execution_count": 9,
      "outputs": [
        {
          "output_type": "stream",
          "text": [
            "[[619 'France' 0 ... 1 1 101348.88]\n",
            " [608 'Spain' 0 ... 0 1 112542.58]\n",
            " [502 'France' 0 ... 1 0 113931.57]\n",
            " ...\n",
            " [709 'France' 0 ... 0 1 42085.58]\n",
            " [772 'Germany' 1 ... 1 0 92888.52]\n",
            " [792 'France' 0 ... 1 0 38190.78]]\n"
          ],
          "name": "stdout"
        }
      ]
    },
    {
      "cell_type": "code",
      "metadata": {
        "id": "3Uad6joyrgoK"
      },
      "source": [
        "from sklearn.compose import ColumnTransformer\r\n",
        "from sklearn.preprocessing import OneHotEncoder\r\n",
        "ct = ColumnTransformer(transformers=[('encoder', OneHotEncoder(), [1])], remainder='passthrough')\r\n",
        "X = np.array(ct.fit_transform(X))"
      ],
      "execution_count": 10,
      "outputs": []
    },
    {
      "cell_type": "code",
      "metadata": {
        "colab": {
          "base_uri": "https://localhost:8080/"
        },
        "id": "rV2lrWHWrgsH",
        "outputId": "99394e59-8069-4fc2-f573-1fb03cd5541a"
      },
      "source": [
        "print(X)"
      ],
      "execution_count": 11,
      "outputs": [
        {
          "output_type": "stream",
          "text": [
            "[[1.0 0.0 0.0 ... 1 1 101348.88]\n",
            " [0.0 0.0 1.0 ... 0 1 112542.58]\n",
            " [1.0 0.0 0.0 ... 1 0 113931.57]\n",
            " ...\n",
            " [1.0 0.0 0.0 ... 0 1 42085.58]\n",
            " [0.0 1.0 0.0 ... 1 0 92888.52]\n",
            " [1.0 0.0 0.0 ... 1 0 38190.78]]\n"
          ],
          "name": "stdout"
        }
      ]
    },
    {
      "cell_type": "code",
      "metadata": {
        "id": "budmJwudsa-1"
      },
      "source": [
        "from sklearn.model_selection import train_test_split\r\n",
        "X_train, X_test, y_train, y_test = train_test_split(X, y, test_size = 0.2, random_state = 0)"
      ],
      "execution_count": 15,
      "outputs": []
    },
    {
      "cell_type": "code",
      "metadata": {
        "id": "gXuWcUg7sbki"
      },
      "source": [
        "from sklearn.preprocessing import StandardScaler\r\n",
        "sc = StandardScaler()\r\n",
        "X_train = sc.fit_transform(X_train)\r\n",
        "X_test = sc.transform(X_test)"
      ],
      "execution_count": 16,
      "outputs": []
    },
    {
      "cell_type": "code",
      "metadata": {
        "id": "VjhPPguCsb0G"
      },
      "source": [
        "ann = tf.keras.models.Sequential()"
      ],
      "execution_count": 17,
      "outputs": []
    },
    {
      "cell_type": "code",
      "metadata": {
        "id": "n5fL2g3TscCy"
      },
      "source": [
        "ann.add(tf.keras.layers.Dense(units=6, activation='relu'))"
      ],
      "execution_count": 18,
      "outputs": []
    },
    {
      "cell_type": "code",
      "metadata": {
        "id": "6oIqeHFnscRL"
      },
      "source": [
        "ann.add(tf.keras.layers.Dense(units=6, activation='relu'))"
      ],
      "execution_count": 19,
      "outputs": []
    },
    {
      "cell_type": "code",
      "metadata": {
        "id": "Att18M3QsceU"
      },
      "source": [
        "ann.add(tf.keras.layers.Dense(units=1, activation='sigmoid'))"
      ],
      "execution_count": 20,
      "outputs": []
    },
    {
      "cell_type": "code",
      "metadata": {
        "id": "yzgpfeFrsvE8"
      },
      "source": [
        "ann.compile(optimizer = 'adam', loss = 'binary_crossentropy', metrics = ['accuracy'])"
      ],
      "execution_count": 21,
      "outputs": []
    },
    {
      "cell_type": "code",
      "metadata": {
        "colab": {
          "base_uri": "https://localhost:8080/"
        },
        "id": "q-sLlzkasvIl",
        "outputId": "b75c77de-2144-47af-ec52-8c900fcc4db6"
      },
      "source": [
        "ann.fit(X_train, y_train, batch_size = 32, epochs = 100)"
      ],
      "execution_count": 22,
      "outputs": [
        {
          "output_type": "stream",
          "text": [
            "Epoch 1/100\n",
            "250/250 [==============================] - 1s 1ms/step - loss: 0.5595 - accuracy: 0.7738\n",
            "Epoch 2/100\n",
            "250/250 [==============================] - 0s 1ms/step - loss: 0.4888 - accuracy: 0.7898\n",
            "Epoch 3/100\n",
            "250/250 [==============================] - 0s 1ms/step - loss: 0.4508 - accuracy: 0.7991\n",
            "Epoch 4/100\n",
            "250/250 [==============================] - 0s 1ms/step - loss: 0.4395 - accuracy: 0.7971\n",
            "Epoch 5/100\n",
            "250/250 [==============================] - 0s 1ms/step - loss: 0.4353 - accuracy: 0.7943\n",
            "Epoch 6/100\n",
            "250/250 [==============================] - 0s 1ms/step - loss: 0.4399 - accuracy: 0.7980\n",
            "Epoch 7/100\n",
            "250/250 [==============================] - 0s 1ms/step - loss: 0.4278 - accuracy: 0.8055\n",
            "Epoch 8/100\n",
            "250/250 [==============================] - 0s 1ms/step - loss: 0.4152 - accuracy: 0.8152\n",
            "Epoch 9/100\n",
            "250/250 [==============================] - 0s 1ms/step - loss: 0.4213 - accuracy: 0.8124\n",
            "Epoch 10/100\n",
            "250/250 [==============================] - 0s 1ms/step - loss: 0.4096 - accuracy: 0.8262\n",
            "Epoch 11/100\n",
            "250/250 [==============================] - 0s 1ms/step - loss: 0.4176 - accuracy: 0.8139\n",
            "Epoch 12/100\n",
            "250/250 [==============================] - 0s 1ms/step - loss: 0.4129 - accuracy: 0.8210\n",
            "Epoch 13/100\n",
            "250/250 [==============================] - 0s 1ms/step - loss: 0.4120 - accuracy: 0.8210\n",
            "Epoch 14/100\n",
            "250/250 [==============================] - 0s 1ms/step - loss: 0.4050 - accuracy: 0.8245\n",
            "Epoch 15/100\n",
            "250/250 [==============================] - 0s 1ms/step - loss: 0.4048 - accuracy: 0.8207\n",
            "Epoch 16/100\n",
            "250/250 [==============================] - 0s 2ms/step - loss: 0.3960 - accuracy: 0.8312\n",
            "Epoch 17/100\n",
            "250/250 [==============================] - 0s 1ms/step - loss: 0.3984 - accuracy: 0.8257\n",
            "Epoch 18/100\n",
            "250/250 [==============================] - 0s 1ms/step - loss: 0.3966 - accuracy: 0.8288\n",
            "Epoch 19/100\n",
            "250/250 [==============================] - 0s 1ms/step - loss: 0.3870 - accuracy: 0.8331\n",
            "Epoch 20/100\n",
            "250/250 [==============================] - 0s 1ms/step - loss: 0.3893 - accuracy: 0.8342\n",
            "Epoch 21/100\n",
            "250/250 [==============================] - 0s 1ms/step - loss: 0.3828 - accuracy: 0.8322\n",
            "Epoch 22/100\n",
            "250/250 [==============================] - 0s 952us/step - loss: 0.3809 - accuracy: 0.8345\n",
            "Epoch 23/100\n",
            "250/250 [==============================] - 0s 973us/step - loss: 0.3780 - accuracy: 0.8351\n",
            "Epoch 24/100\n",
            "250/250 [==============================] - 0s 970us/step - loss: 0.3729 - accuracy: 0.8326\n",
            "Epoch 25/100\n",
            "250/250 [==============================] - 0s 952us/step - loss: 0.3701 - accuracy: 0.8355\n",
            "Epoch 26/100\n",
            "250/250 [==============================] - 0s 1ms/step - loss: 0.3731 - accuracy: 0.8338\n",
            "Epoch 27/100\n",
            "250/250 [==============================] - 0s 960us/step - loss: 0.3807 - accuracy: 0.8289\n",
            "Epoch 28/100\n",
            "250/250 [==============================] - 0s 927us/step - loss: 0.3664 - accuracy: 0.8393\n",
            "Epoch 29/100\n",
            "250/250 [==============================] - 0s 987us/step - loss: 0.3759 - accuracy: 0.8411\n",
            "Epoch 30/100\n",
            "250/250 [==============================] - 0s 955us/step - loss: 0.3699 - accuracy: 0.8454\n",
            "Epoch 31/100\n",
            "250/250 [==============================] - 0s 967us/step - loss: 0.3774 - accuracy: 0.8440\n",
            "Epoch 32/100\n",
            "250/250 [==============================] - 0s 926us/step - loss: 0.3812 - accuracy: 0.8352\n",
            "Epoch 33/100\n",
            "250/250 [==============================] - 0s 976us/step - loss: 0.3601 - accuracy: 0.8480\n",
            "Epoch 34/100\n",
            "250/250 [==============================] - 0s 1ms/step - loss: 0.3694 - accuracy: 0.8462\n",
            "Epoch 35/100\n",
            "250/250 [==============================] - 0s 954us/step - loss: 0.3653 - accuracy: 0.8497\n",
            "Epoch 36/100\n",
            "250/250 [==============================] - 0s 1ms/step - loss: 0.3612 - accuracy: 0.8518\n",
            "Epoch 37/100\n",
            "250/250 [==============================] - 0s 957us/step - loss: 0.3568 - accuracy: 0.8514\n",
            "Epoch 38/100\n",
            "250/250 [==============================] - 0s 1ms/step - loss: 0.3586 - accuracy: 0.8469\n",
            "Epoch 39/100\n",
            "250/250 [==============================] - 0s 933us/step - loss: 0.3604 - accuracy: 0.8495\n",
            "Epoch 40/100\n",
            "250/250 [==============================] - 0s 1ms/step - loss: 0.3535 - accuracy: 0.8552\n",
            "Epoch 41/100\n",
            "250/250 [==============================] - 0s 940us/step - loss: 0.3544 - accuracy: 0.8485\n",
            "Epoch 42/100\n",
            "250/250 [==============================] - 0s 998us/step - loss: 0.3594 - accuracy: 0.8506\n",
            "Epoch 43/100\n",
            "250/250 [==============================] - 0s 1ms/step - loss: 0.3677 - accuracy: 0.8458\n",
            "Epoch 44/100\n",
            "250/250 [==============================] - 0s 938us/step - loss: 0.3684 - accuracy: 0.8423\n",
            "Epoch 45/100\n",
            "250/250 [==============================] - 0s 945us/step - loss: 0.3488 - accuracy: 0.8574\n",
            "Epoch 46/100\n",
            "250/250 [==============================] - 0s 997us/step - loss: 0.3525 - accuracy: 0.8544\n",
            "Epoch 47/100\n",
            "250/250 [==============================] - 0s 933us/step - loss: 0.3619 - accuracy: 0.8506\n",
            "Epoch 48/100\n",
            "250/250 [==============================] - 0s 1ms/step - loss: 0.3548 - accuracy: 0.8532\n",
            "Epoch 49/100\n",
            "250/250 [==============================] - 0s 1ms/step - loss: 0.3638 - accuracy: 0.8481\n",
            "Epoch 50/100\n",
            "250/250 [==============================] - 0s 1ms/step - loss: 0.3506 - accuracy: 0.8546\n",
            "Epoch 51/100\n",
            "250/250 [==============================] - 0s 947us/step - loss: 0.3468 - accuracy: 0.8556\n",
            "Epoch 52/100\n",
            "250/250 [==============================] - 0s 943us/step - loss: 0.3617 - accuracy: 0.8473\n",
            "Epoch 53/100\n",
            "250/250 [==============================] - 0s 938us/step - loss: 0.3466 - accuracy: 0.8561\n",
            "Epoch 54/100\n",
            "250/250 [==============================] - 0s 1ms/step - loss: 0.3489 - accuracy: 0.8573\n",
            "Epoch 55/100\n",
            "250/250 [==============================] - 0s 1ms/step - loss: 0.3510 - accuracy: 0.8556\n",
            "Epoch 56/100\n",
            "250/250 [==============================] - 0s 952us/step - loss: 0.3543 - accuracy: 0.8517\n",
            "Epoch 57/100\n",
            "250/250 [==============================] - 0s 1ms/step - loss: 0.3597 - accuracy: 0.8497\n",
            "Epoch 58/100\n",
            "250/250 [==============================] - 0s 996us/step - loss: 0.3553 - accuracy: 0.8488\n",
            "Epoch 59/100\n",
            "250/250 [==============================] - 0s 1ms/step - loss: 0.3454 - accuracy: 0.8536\n",
            "Epoch 60/100\n",
            "250/250 [==============================] - 0s 959us/step - loss: 0.3427 - accuracy: 0.8624\n",
            "Epoch 61/100\n",
            "250/250 [==============================] - 0s 960us/step - loss: 0.3533 - accuracy: 0.8512\n",
            "Epoch 62/100\n",
            "250/250 [==============================] - 0s 1ms/step - loss: 0.3548 - accuracy: 0.8496\n",
            "Epoch 63/100\n",
            "250/250 [==============================] - 0s 965us/step - loss: 0.3511 - accuracy: 0.8560\n",
            "Epoch 64/100\n",
            "250/250 [==============================] - 0s 950us/step - loss: 0.3522 - accuracy: 0.8509\n",
            "Epoch 65/100\n",
            "250/250 [==============================] - 0s 989us/step - loss: 0.3487 - accuracy: 0.8591\n",
            "Epoch 66/100\n",
            "250/250 [==============================] - 0s 1ms/step - loss: 0.3513 - accuracy: 0.8526\n",
            "Epoch 67/100\n",
            "250/250 [==============================] - 0s 945us/step - loss: 0.3477 - accuracy: 0.8576\n",
            "Epoch 68/100\n",
            "250/250 [==============================] - 0s 942us/step - loss: 0.3435 - accuracy: 0.8596\n",
            "Epoch 69/100\n",
            "250/250 [==============================] - 0s 1ms/step - loss: 0.3580 - accuracy: 0.8536\n",
            "Epoch 70/100\n",
            "250/250 [==============================] - 0s 1ms/step - loss: 0.3486 - accuracy: 0.8583\n",
            "Epoch 71/100\n",
            "250/250 [==============================] - 0s 956us/step - loss: 0.3498 - accuracy: 0.8571\n",
            "Epoch 72/100\n",
            "250/250 [==============================] - 0s 966us/step - loss: 0.3485 - accuracy: 0.8515\n",
            "Epoch 73/100\n",
            "250/250 [==============================] - 0s 989us/step - loss: 0.3370 - accuracy: 0.8634\n",
            "Epoch 74/100\n",
            "250/250 [==============================] - 0s 1ms/step - loss: 0.3367 - accuracy: 0.8672\n",
            "Epoch 75/100\n",
            "250/250 [==============================] - 0s 954us/step - loss: 0.3384 - accuracy: 0.8609\n",
            "Epoch 76/100\n",
            "250/250 [==============================] - 0s 962us/step - loss: 0.3376 - accuracy: 0.8622\n",
            "Epoch 77/100\n",
            "250/250 [==============================] - 0s 1ms/step - loss: 0.3500 - accuracy: 0.8532\n",
            "Epoch 78/100\n",
            "250/250 [==============================] - 0s 993us/step - loss: 0.3433 - accuracy: 0.8634\n",
            "Epoch 79/100\n",
            "250/250 [==============================] - 0s 1ms/step - loss: 0.3461 - accuracy: 0.8594\n",
            "Epoch 80/100\n",
            "250/250 [==============================] - 0s 1ms/step - loss: 0.3438 - accuracy: 0.8571\n",
            "Epoch 81/100\n",
            "250/250 [==============================] - 0s 956us/step - loss: 0.3422 - accuracy: 0.8569\n",
            "Epoch 82/100\n",
            "250/250 [==============================] - 0s 1ms/step - loss: 0.3356 - accuracy: 0.8611\n",
            "Epoch 83/100\n",
            "250/250 [==============================] - 0s 1ms/step - loss: 0.3338 - accuracy: 0.8615\n",
            "Epoch 84/100\n",
            "250/250 [==============================] - 0s 1ms/step - loss: 0.3373 - accuracy: 0.8613\n",
            "Epoch 85/100\n",
            "250/250 [==============================] - 0s 1ms/step - loss: 0.3256 - accuracy: 0.8651\n",
            "Epoch 86/100\n",
            "250/250 [==============================] - 0s 963us/step - loss: 0.3464 - accuracy: 0.8586\n",
            "Epoch 87/100\n",
            "250/250 [==============================] - 0s 1ms/step - loss: 0.3397 - accuracy: 0.8586\n",
            "Epoch 88/100\n",
            "250/250 [==============================] - 0s 976us/step - loss: 0.3364 - accuracy: 0.8598\n",
            "Epoch 89/100\n",
            "250/250 [==============================] - 0s 1ms/step - loss: 0.3423 - accuracy: 0.8572\n",
            "Epoch 90/100\n",
            "250/250 [==============================] - 0s 974us/step - loss: 0.3416 - accuracy: 0.8548\n",
            "Epoch 91/100\n",
            "250/250 [==============================] - 0s 970us/step - loss: 0.3427 - accuracy: 0.8597\n",
            "Epoch 92/100\n",
            "250/250 [==============================] - 0s 951us/step - loss: 0.3476 - accuracy: 0.8545\n",
            "Epoch 93/100\n",
            "250/250 [==============================] - 0s 1ms/step - loss: 0.3413 - accuracy: 0.8585\n",
            "Epoch 94/100\n",
            "250/250 [==============================] - 0s 1ms/step - loss: 0.3457 - accuracy: 0.8572\n",
            "Epoch 95/100\n",
            "250/250 [==============================] - 0s 991us/step - loss: 0.3344 - accuracy: 0.8640\n",
            "Epoch 96/100\n",
            "250/250 [==============================] - 0s 945us/step - loss: 0.3430 - accuracy: 0.8584\n",
            "Epoch 97/100\n",
            "250/250 [==============================] - 0s 1ms/step - loss: 0.3403 - accuracy: 0.8605\n",
            "Epoch 98/100\n",
            "250/250 [==============================] - 0s 1ms/step - loss: 0.3382 - accuracy: 0.8594\n",
            "Epoch 99/100\n",
            "250/250 [==============================] - 0s 958us/step - loss: 0.3335 - accuracy: 0.8616\n",
            "Epoch 100/100\n",
            "250/250 [==============================] - 0s 1ms/step - loss: 0.3269 - accuracy: 0.8705\n"
          ],
          "name": "stdout"
        },
        {
          "output_type": "execute_result",
          "data": {
            "text/plain": [
              "<tensorflow.python.keras.callbacks.History at 0x7efeeb4385c0>"
            ]
          },
          "metadata": {
            "tags": []
          },
          "execution_count": 22
        }
      ]
    },
    {
      "cell_type": "code",
      "metadata": {
        "colab": {
          "base_uri": "https://localhost:8080/"
        },
        "id": "Y1K0rOKIsvMw",
        "outputId": "2824bda7-cc9e-41f8-b7d9-e0a4b4d89980"
      },
      "source": [
        "print(ann.predict(sc.transform([[1, 0, 0, 600, 1, 40, 3, 60000, 2, 1, 1, 50000]])) > 0.5)"
      ],
      "execution_count": 23,
      "outputs": [
        {
          "output_type": "stream",
          "text": [
            "[[False]]\n"
          ],
          "name": "stdout"
        }
      ]
    },
    {
      "cell_type": "code",
      "metadata": {
        "colab": {
          "base_uri": "https://localhost:8080/"
        },
        "id": "9prIqV1Fs7yC",
        "outputId": "26eef201-a682-41f0-8924-c26c97bad51c"
      },
      "source": [
        "y_pred = ann.predict(X_test)\r\n",
        "y_pred = (y_pred > 0.5)\r\n",
        "print(np.concatenate((y_pred.reshape(len(y_pred),1), y_test.reshape(len(y_test),1)),1))"
      ],
      "execution_count": 24,
      "outputs": [
        {
          "output_type": "stream",
          "text": [
            "[[0 0]\n",
            " [0 1]\n",
            " [0 0]\n",
            " ...\n",
            " [0 0]\n",
            " [0 0]\n",
            " [0 0]]\n"
          ],
          "name": "stdout"
        }
      ]
    },
    {
      "cell_type": "code",
      "metadata": {
        "colab": {
          "base_uri": "https://localhost:8080/"
        },
        "id": "JXg7qnt0s_Pz",
        "outputId": "ca6cc8c8-6071-42d3-8bd1-b2809f691b37"
      },
      "source": [
        "from sklearn.metrics import confusion_matrix, accuracy_score\r\n",
        "cm = confusion_matrix(y_test, y_pred)\r\n",
        "print(cm)\r\n",
        "accuracy_score(y_test, y_pred)"
      ],
      "execution_count": 25,
      "outputs": [
        {
          "output_type": "stream",
          "text": [
            "[[1518   77]\n",
            " [ 201  204]]\n"
          ],
          "name": "stdout"
        },
        {
          "output_type": "execute_result",
          "data": {
            "text/plain": [
              "0.861"
            ]
          },
          "metadata": {
            "tags": []
          },
          "execution_count": 25
        }
      ]
    }
  ]
}