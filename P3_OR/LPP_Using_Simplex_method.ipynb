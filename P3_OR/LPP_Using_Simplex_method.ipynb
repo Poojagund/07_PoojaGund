{
  "nbformat": 4,
  "nbformat_minor": 0,
  "metadata": {
    "colab": {
      "name": "LPP Using Simplex method.ipynb",
      "provenance": []
    },
    "kernelspec": {
      "name": "python3",
      "display_name": "Python 3"
    }
  },
  "cells": [
    {
      "cell_type": "code",
      "metadata": {
        "colab": {
          "base_uri": "https://localhost:8080/"
        },
        "id": "tg-KlIiFwrKq",
        "outputId": "6b9625d4-af1b-463c-8175-b36d31083b62"
      },
      "source": [
        "from scipy.optimize import linprog\r\n",
        "\r\n",
        "obj=[-200,300]\r\n",
        "\r\n",
        "lhs_ineq=[[-2,-3],[1,1],[-2,-1.5]]\r\n",
        "\r\n",
        "rhs_ineq=[-1200,400,-900]\r\n",
        "\r\n",
        "bnd=[(0,float(\"inf\")),(0,float(\"inf\"))]\r\n",
        "\r\n",
        "opt=linprog(c=obj,A_ub=lhs_ineq, b_ub=rhs_ineq,bounds=bnd,method=\"revised simplex\")\r\n",
        "\r\n",
        "opt\r\n"
      ],
      "execution_count": 1,
      "outputs": [
        {
          "output_type": "execute_result",
          "data": {
            "text/plain": [
              "     con: array([], dtype=float64)\n",
              "     fun: 120000.0\n",
              " message: 'The problem appears infeasible, as the phase one auxiliary problem terminated successfully with a residual of 3.0e+02, greater than the tolerance 1e-12 required for the solution to be considered feasible. Consider increasing the tolerance to be greater than 3.0e+02. If this tolerance is unnaceptably large, the problem is likely infeasible.'\n",
              "     nit: 1\n",
              "   slack: array([   0.,    0., -300.])\n",
              "  status: 2\n",
              " success: False\n",
              "       x: array([  0., 400.])"
            ]
          },
          "metadata": {
            "tags": []
          },
          "execution_count": 1
        }
      ]
    }
  ]
}