{
  "nbformat": 4,
  "nbformat_minor": 0,
  "metadata": {
    "colab": {
      "name": "Untitled1.ipynb",
      "provenance": []
    },
    "kernelspec": {
      "name": "python3",
      "display_name": "Python 3"
    }
  },
  "cells": [
    {
      "cell_type": "markdown",
      "metadata": {
        "id": "pTxn6hEMuk5H"
      },
      "source": [
        "**Solve the following linear programming problem with three variables using simplex method**\r\n",
        "\r\n",
        "Min z= x1-3x2+2x3 subject to\r\n",
        "3x1-x2+3x3<=7\r\n",
        "-2x2+4x2<=12\r\n",
        "-4x1+3x2+883<=10\r\n",
        "x1,x2,x3>=0\r\n"
      ]
    },
    {
      "cell_type": "code",
      "metadata": {
        "id": "X78Nz0JYuh_4"
      },
      "source": [
        "from scipy.optimize import linprog"
      ],
      "execution_count": 56,
      "outputs": []
    },
    {
      "cell_type": "code",
      "metadata": {
        "id": "zDTmXsnfwKvM"
      },
      "source": [
        "obj=[1,-3,2]"
      ],
      "execution_count": 57,
      "outputs": []
    },
    {
      "cell_type": "code",
      "metadata": {
        "id": "8pcbcjCkwiZ2"
      },
      "source": [
        "lhs_ineq=[[3,-1,3],[-2,4,0],[-4,3,8]]"
      ],
      "execution_count": 58,
      "outputs": []
    },
    {
      "cell_type": "code",
      "metadata": {
        "id": "0HHDA79KxATL"
      },
      "source": [
        "rhs_ineq=[7,12,10]"
      ],
      "execution_count": 59,
      "outputs": []
    },
    {
      "cell_type": "code",
      "metadata": {
        "id": "mh4ghzWexN17"
      },
      "source": [
        "bnd=[(0,float(\"inf\")),(0,float(\"inf\")),(0,float(\"inf\"))]"
      ],
      "execution_count": 60,
      "outputs": []
    },
    {
      "cell_type": "code",
      "metadata": {
        "colab": {
          "base_uri": "https://localhost:8080/"
        },
        "id": "WbiV8WUAxlsL",
        "outputId": "bf4fe024-d803-48b1-f4b7-de356ece2ee7"
      },
      "source": [
        "opt=linprog(c=obj,A_ub=lhs_ineq,b_ub=rhs_ineq,bounds=bnd,method=\"revised simplex\")\r\n",
        "opt"
      ],
      "execution_count": 63,
      "outputs": [
        {
          "output_type": "execute_result",
          "data": {
            "text/plain": [
              "     con: array([], dtype=float64)\n",
              "     fun: -11.0\n",
              " message: 'Optimization terminated successfully.'\n",
              "     nit: 2\n",
              "   slack: array([ 0.,  0., 11.])\n",
              "  status: 0\n",
              " success: True\n",
              "       x: array([4., 5., 0.])"
            ]
          },
          "metadata": {
            "tags": []
          },
          "execution_count": 63
        }
      ]
    }
  ]
}