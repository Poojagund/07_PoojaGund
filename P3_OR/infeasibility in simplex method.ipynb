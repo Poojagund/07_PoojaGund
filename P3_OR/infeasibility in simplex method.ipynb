{
  "nbformat": 4,
  "nbformat_minor": 0,
  "metadata": {
    "colab": {
      "name": "Untitled3.ipynb",
      "provenance": []
    },
    "kernelspec": {
      "name": "python3",
      "display_name": "Python 3"
    }
  },
  "cells": [
    {
      "cell_type": "markdown",
      "metadata": {
        "id": "nHS6krme8k2T"
      },
      "source": [
        "Infeasibility in simplex method\r\n",
        "slove following linear programming problem using simlpex method \r\n",
        "example:\r\n",
        "\r\n",
        "max=Z=200x-300y subject to\r\n",
        "2x+3y>=1200\r\n",
        "x=y<=400\r\n",
        "2x+3/2y>=900\r\n",
        "x,y>=0\r\n"
      ]
    },
    {
      "cell_type": "code",
      "metadata": {
        "id": "FoS-eMcg8jV-"
      },
      "source": [
        "from scipy.optimize import linprog"
      ],
      "execution_count": 1,
      "outputs": []
    },
    {
      "cell_type": "code",
      "metadata": {
        "id": "OKU-C1bc908c"
      },
      "source": [
        "obj=[-200,300]"
      ],
      "execution_count": 2,
      "outputs": []
    },
    {
      "cell_type": "code",
      "metadata": {
        "id": "_XhnnHj498KE"
      },
      "source": [
        "lhs_ineq=[[-2,-3],[1,1],[-2,-1.5]]"
      ],
      "execution_count": 3,
      "outputs": []
    },
    {
      "cell_type": "code",
      "metadata": {
        "id": "bFcloQqh-NTz"
      },
      "source": [
        "rhs_ineq=[-1200,400,-900]"
      ],
      "execution_count": 5,
      "outputs": []
    },
    {
      "cell_type": "code",
      "metadata": {
        "id": "5McHhv7H-X1R"
      },
      "source": [
        "bnd=[(0,float(\"inf\")),(0,float(\"inf\"))]"
      ],
      "execution_count": 8,
      "outputs": []
    },
    {
      "cell_type": "code",
      "metadata": {
        "colab": {
          "base_uri": "https://localhost:8080/"
        },
        "id": "8Ab-_nJ1-2TP",
        "outputId": "a66c17a6-6d5c-448f-cf4e-4378b952bacc"
      },
      "source": [
        "opt=linprog(c=obj,A_ub=lhs_ineq,b_ub=rhs_ineq,bounds=bnd,method=\"revised simplex\")\r\n",
        "opt"
      ],
      "execution_count": 9,
      "outputs": [
        {
          "output_type": "execute_result",
          "data": {
            "text/plain": [
              "     con: array([], dtype=float64)\n",
              "     fun: 120000.0\n",
              " message: 'The problem appears infeasible, as the phase one auxiliary problem terminated successfully with a residual of 3.0e+02, greater than the tolerance 1e-12 required for the solution to be considered feasible. Consider increasing the tolerance to be greater than 3.0e+02. If this tolerance is unnaceptably large, the problem is likely infeasible.'\n",
              "     nit: 1\n",
              "   slack: array([   0.,    0., -300.])\n",
              "  status: 2\n",
              " success: False\n",
              "       x: array([  0., 400.])"
            ]
          },
          "metadata": {
            "tags": []
          },
          "execution_count": 9
        }
      ]
    }
  ]
}