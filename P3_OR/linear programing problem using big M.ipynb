{
  "nbformat": 4,
  "nbformat_minor": 0,
  "metadata": {
    "colab": {
      "name": "Untitled5.ipynb",
      "provenance": []
    },
    "kernelspec": {
      "name": "python3",
      "display_name": "Python 3"
    }
  },
  "cells": [
    {
      "cell_type": "markdown",
      "metadata": {
        "id": "M8o_Rl50HQZP"
      },
      "source": [
        "Roll No: 07\r\n",
        "Pooja Gund.\r\n",
        "\r\n",
        "\r\n",
        "**solve following linear programming problem using Big M simplex method**\r\n",
        "min z =4x1+x2 subjected to:\r\n",
        "3x1+4x2>=20\r\n",
        "x1+5x2>= 15\r\n",
        "x1,x2>=0"
      ]
    },
    {
      "cell_type": "code",
      "metadata": {
        "id": "ItGQ6qF_HFW8"
      },
      "source": [
        "from scipy.optimize import linprog"
      ],
      "execution_count": 2,
      "outputs": []
    },
    {
      "cell_type": "code",
      "metadata": {
        "id": "3E784YEeIHMS"
      },
      "source": [
        "obj= [4,1]"
      ],
      "execution_count": 3,
      "outputs": []
    },
    {
      "cell_type": "code",
      "metadata": {
        "id": "Wl_c93I8IQES"
      },
      "source": [
        "lhs_ineq=[[-3,-4],[-1,-5]]"
      ],
      "execution_count": 4,
      "outputs": []
    },
    {
      "cell_type": "code",
      "metadata": {
        "id": "FH3MxuPvIfGb"
      },
      "source": [
        "rhs_ineq=[-20,-15]"
      ],
      "execution_count": 5,
      "outputs": []
    },
    {
      "cell_type": "code",
      "metadata": {
        "id": "1B9mgIRBImAJ"
      },
      "source": [
        "bnd=[(0,float(\"inf\")),(0,float(\"inf\"))]"
      ],
      "execution_count": 6,
      "outputs": []
    },
    {
      "cell_type": "code",
      "metadata": {
        "colab": {
          "base_uri": "https://localhost:8080/"
        },
        "id": "UX9JWacwIyMz",
        "outputId": "a7c4f625-7d6e-4e46-adbc-3c71d2a7b2ad"
      },
      "source": [
        "opt=linprog(c=obj,A_ub=lhs_ineq,b_ub=rhs_ineq,bounds=bnd,method=\"interior-point\")\r\n",
        "opt"
      ],
      "execution_count": 11,
      "outputs": [
        {
          "output_type": "stream",
          "text": [
            "/usr/local/lib/python3.6/dist-packages/numpy/core/fromnumeric.py:87: VisibleDeprecationWarning: Creating an ndarray from ragged nested sequences (which is a list-or-tuple of lists-or-tuples-or ndarrays with different lengths or shapes) is deprecated. If you meant to do this, you must specify 'dtype=object' when creating the ndarray\n",
            "  return ufunc.reduce(obj, axis, dtype, out, **passkwargs)\n"
          ],
          "name": "stderr"
        },
        {
          "output_type": "execute_result",
          "data": {
            "text/plain": [
              "     con: array([], dtype=float64)\n",
              "     fun: 5.000000000236444\n",
              " message: 'Optimization terminated successfully.'\n",
              "     nit: 5\n",
              "   slack: array([1.6426327e-10, 1.0000000e+01])\n",
              "  status: 0\n",
              " success: True\n",
              "       x: array([6.01160437e-11, 5.00000000e+00])"
            ]
          },
          "metadata": {
            "tags": []
          },
          "execution_count": 11
        }
      ]
    },
    {
      "cell_type": "code",
      "metadata": {
        "id": "1tZyEtLzJjue"
      },
      "source": [
        ""
      ],
      "execution_count": null,
      "outputs": []
    }
  ]
}