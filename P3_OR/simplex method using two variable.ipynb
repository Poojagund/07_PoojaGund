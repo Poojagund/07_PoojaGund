{
  "nbformat": 4,
  "nbformat_minor": 0,
  "metadata": {
    "colab": {
      "name": "Untitled8.ipynb",
      "provenance": []
    },
    "kernelspec": {
      "name": "python3",
      "display_name": "Python 3"
    }
  },
  "cells": [
    {
      "cell_type": "markdown",
      "metadata": {
        "id": "MDX5lE09YVKn"
      },
      "source": [
        "**solve the following programming problem with two ariable using simplex method**\r\n",
        "\r\n",
        "max z= 3x1+2x2\r\n",
        " subject to \r\n",
        " \r\n",
        " x1 + x2<=4\r\n",
        "\r\n",
        " x1 - x2 <=2\r\n",
        " \r\n",
        " x1,x2>=0"
      ]
    },
    {
      "cell_type": "code",
      "metadata": {
        "id": "uD9lguJgYS5Y"
      },
      "source": [
        "from scipy.optimize import linprog"
      ],
      "execution_count": 3,
      "outputs": []
    },
    {
      "cell_type": "code",
      "metadata": {
        "id": "CE8i6oT7Y_e3"
      },
      "source": [
        "obj = [-3,-2]"
      ],
      "execution_count": 4,
      "outputs": []
    },
    {
      "cell_type": "code",
      "metadata": {
        "id": "7UIa7Lj5ZEpk"
      },
      "source": [
        "lhs_ineq=[[1,1],[1,-1]]"
      ],
      "execution_count": 6,
      "outputs": []
    },
    {
      "cell_type": "code",
      "metadata": {
        "id": "9vYnIuOyZY4u"
      },
      "source": [
        "rhs_ineq=[4,2]"
      ],
      "execution_count": 8,
      "outputs": []
    },
    {
      "cell_type": "code",
      "metadata": {
        "id": "zFxjCUYwZf_j"
      },
      "source": [
        "bnd= [(0,float(\"inf\")),(0,float(\"inf\"))]"
      ],
      "execution_count": 10,
      "outputs": []
    },
    {
      "cell_type": "code",
      "metadata": {
        "colab": {
          "base_uri": "https://localhost:8080/"
        },
        "id": "RYTs9jBZZvGR",
        "outputId": "72353c83-b66f-4a81-aded-a1b2545eaa35"
      },
      "source": [
        "opt=linprog(c=obj,A_ub=lhs_ineq,b_ub=rhs_ineq,bounds=bnd,method=\"revised simplex\")\r\n",
        "opt"
      ],
      "execution_count": 12,
      "outputs": [
        {
          "output_type": "execute_result",
          "data": {
            "text/plain": [
              "     con: array([], dtype=float64)\n",
              "     fun: -11.0\n",
              " message: 'Optimization terminated successfully.'\n",
              "     nit: 2\n",
              "   slack: array([0., 0.])\n",
              "  status: 0\n",
              " success: True\n",
              "       x: array([3., 1.])"
            ]
          },
          "metadata": {
            "tags": []
          },
          "execution_count": 12
        }
      ]
    }
  ]
}