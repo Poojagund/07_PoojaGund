{
  "nbformat": 4,
  "nbformat_minor": 0,
  "metadata": {
    "colab": {
      "name": "Untitled4.ipynb",
      "provenance": []
    },
    "kernelspec": {
      "name": "python3",
      "display_name": "Python 3"
    }
  },
  "cells": [
    {
      "cell_type": "markdown",
      "metadata": {
        "id": "Eo52IY90AI9Y"
      },
      "source": [
        "Roll No :07\r\n",
        "Pooja Gund.\r\n",
        "\r\n",
        "\r\n",
        "**solve following linear programming problem with equality constraint using simplex method**\r\n",
        "\r\n",
        "\r\n",
        "max z= x+2y subject to \r\n",
        "2x+y<=20\r\n",
        "-4x+5y<=10\r\n",
        "-x_2y>=-2\r\n",
        "-x+5y=15\r\n",
        "x,y>=0"
      ]
    },
    {
      "cell_type": "code",
      "metadata": {
        "id": "ZVmlc9zuAHsO"
      },
      "source": [
        "from scipy.optimize import linprog"
      ],
      "execution_count": 1,
      "outputs": []
    },
    {
      "cell_type": "code",
      "metadata": {
        "id": "sw_986cVBwP5"
      },
      "source": [
        "obj = [-1,-2]\r\n"
      ],
      "execution_count": 3,
      "outputs": []
    },
    {
      "cell_type": "code",
      "metadata": {
        "id": "gyrVncMqB2f4"
      },
      "source": [
        "lhs_ineq=[[2,1],[-4,5],[1,-2]]"
      ],
      "execution_count": 4,
      "outputs": []
    },
    {
      "cell_type": "code",
      "metadata": {
        "id": "p0Ye_VkVCI0s"
      },
      "source": [
        "rhs_ineq=[20,10,2]"
      ],
      "execution_count": 6,
      "outputs": []
    },
    {
      "cell_type": "code",
      "metadata": {
        "id": "NrnVBJsUCQdt"
      },
      "source": [
        "lhs_eq=[[-1,5]]"
      ],
      "execution_count": 7,
      "outputs": []
    },
    {
      "cell_type": "code",
      "metadata": {
        "id": "1ciQhTqcCa1u"
      },
      "source": [
        "rhs_eq=[15]"
      ],
      "execution_count": 8,
      "outputs": []
    },
    {
      "cell_type": "code",
      "metadata": {
        "id": "RK4acPVSCj1C"
      },
      "source": [
        "bnd=[(0,float(\"inf\")),(0,float(\"inf\"))]"
      ],
      "execution_count": 9,
      "outputs": []
    },
    {
      "cell_type": "code",
      "metadata": {
        "colab": {
          "base_uri": "https://localhost:8080/"
        },
        "id": "2f7wDpQMDHmH",
        "outputId": "8f5d5ee8-7f3d-403f-f78e-56028ee3b17f"
      },
      "source": [
        "opt=linprog(c=obj,A_ub=lhs_ineq,b_ub=rhs_ineq,A_eq=lhs_eq,b_eq=rhs_eq,bounds=bnd,method=\"revised simplex\")\r\n",
        "opt"
      ],
      "execution_count": 11,
      "outputs": [
        {
          "output_type": "execute_result",
          "data": {
            "text/plain": [
              "     con: array([0.])\n",
              "     fun: -16.818181818181817\n",
              " message: 'Optimization terminated successfully.'\n",
              "     nit: 3\n",
              "   slack: array([ 0.        , 18.18181818,  3.36363636])\n",
              "  status: 0\n",
              " success: True\n",
              "       x: array([7.72727273, 4.54545455])"
            ]
          },
          "metadata": {
            "tags": []
          },
          "execution_count": 11
        }
      ]
    }
  ]
}