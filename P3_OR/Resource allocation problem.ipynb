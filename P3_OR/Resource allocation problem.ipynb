{
  "nbformat": 4,
  "nbformat_minor": 0,
  "metadata": {
    "colab": {
      "name": "Untitled2.ipynb",
      "provenance": []
    },
    "kernelspec": {
      "name": "python3",
      "display_name": "Python 3"
    }
  },
  "cells": [
    {
      "cell_type": "markdown",
      "metadata": {
        "id": "uqR7yfYp4z3I"
      },
      "source": [
        "**Use SciPy to solve the resource allocation problem stated as follows:**\r\n",
        "Max z= 20x1+12x2+40x3+25x4........(profit)\r\n",
        "\r\n",
        "subjected to:\r\n",
        "x1 + x2 + x3 + x4 <=50...........(manpower)\r\n",
        "3x1 + 2x2 +x3 <=100..............(material A)\r\n",
        "x2 + 2x3 <= 90....................(material B)\r\n",
        "\r\n",
        "X1,X2,x3,x4>=0\r\n"
      ]
    },
    {
      "cell_type": "code",
      "metadata": {
        "id": "-pnV9-8L4lvT"
      },
      "source": [
        "from scipy.optimize import linprog"
      ],
      "execution_count": 1,
      "outputs": []
    },
    {
      "cell_type": "code",
      "metadata": {
        "id": "r7fUtqv_6mCq"
      },
      "source": [
        "obj=[20,-12,-40,-25]"
      ],
      "execution_count": 3,
      "outputs": []
    },
    {
      "cell_type": "code",
      "metadata": {
        "id": "ceTl7cSu6u0x"
      },
      "source": [
        "lhs_ineq=[[1,1,1,1],[3,2,1,0],[0,1,2,3]]"
      ],
      "execution_count": 5,
      "outputs": []
    },
    {
      "cell_type": "code",
      "metadata": {
        "id": "nLpAS0497BGg"
      },
      "source": [
        "rhs_ineq=[50,100,90]"
      ],
      "execution_count": 6,
      "outputs": []
    },
    {
      "cell_type": "code",
      "metadata": {
        "colab": {
          "base_uri": "https://localhost:8080/"
        },
        "id": "mJhTK89e7ICT",
        "outputId": "7388a5cc-da66-461f-c316-4963491e7582"
      },
      "source": [
        "opt=linprog(c=obj,A_ub=lhs_ineq,b_ub=rhs_ineq,method=\"revised simplex\")\r\n",
        "opt"
      ],
      "execution_count": 8,
      "outputs": [
        {
          "output_type": "execute_result",
          "data": {
            "text/plain": [
              "     con: array([], dtype=float64)\n",
              "     fun: -1800.0\n",
              " message: 'Optimization terminated successfully.'\n",
              "     nit: 1\n",
              "   slack: array([ 5., 55.,  0.])\n",
              "  status: 0\n",
              " success: True\n",
              "       x: array([ 0.,  0., 45.,  0.])"
            ]
          },
          "metadata": {
            "tags": []
          },
          "execution_count": 8
        }
      ]
    }
  ]
}